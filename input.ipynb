{
 "cells": [
  {
   "cell_type": "code",
   "execution_count": 1,
   "metadata": {},
   "outputs": [
    {
     "name": "stdout",
     "output_type": "stream",
     "text": [
      "Hello, Aqsa! Let's explore some numbers.\n",
      "The number 2 is eve.\n",
      "The number 3 is odd.\n",
      "The number 4 is eve.\n",
      "\n",
      "The numbers and their squares:\n",
      "The square of 2 is 4.\n",
      "The square of 3 is 9.\n",
      "The square of 4 is 16.\n",
      "\n",
      "The sum of your favorite numbers is: 9. Welldone!\n",
      "The sum of your number 9 is a prime number!\n"
     ]
    }
   ],
   "source": [
    "#prompting user to enter name\n",
    "name = input(\"Enter your name: \")\n",
    "print(f\"Hello, {name}! Let's explore some numbers.\")\n",
    "\n",
    "#enter favorite numbers\n",
    "favorite_numbers = []\n",
    "for i in range(2, 5):\n",
    "    num =int(input(f\"Enter favorite number {i}: \"))\n",
    "    favorite_numbers.append(num)\n",
    "\n",
    "#even an odd information in tuples\n",
    "even_odd_list = [(num, \"eve\" if num % 2 == 0 else \"odd\") for num in favorite_numbers]\n",
    "\n",
    "for num, eo in even_odd_list:\n",
    "    print(f\"The number {num} is {eo}.\")\n",
    "\n",
    "#square of numbers    \n",
    "print(\"\\nThe numbers and their squares:\")\n",
    "for num in favorite_numbers:\n",
    "    square = num ** 2\n",
    "    print(f\"The square of {num} is {square}.\")\n",
    "\n",
    "#calculate the sum of numbers\n",
    "total_sum = sum(favorite_numbers)\n",
    "print(f\"\\nThe sum of your favorite numbers is: {total_sum}. Welldone!\")\n",
    "\n",
    "#sum is a prime number or not\n",
    "if (total_sum):\n",
    "    print(f\"The sum of your number {total_sum} is a prime number!\")\n",
    "else:\n",
    "    print(f\"The sum of your number {total_sum}is not a prime number but its ok.\")\n"
   ]
  }
 ],
 "metadata": {
  "kernelspec": {
   "display_name": "Python 3",
   "language": "python",
   "name": "python3"
  },
  "language_info": {
   "codemirror_mode": {
    "name": "ipython",
    "version": 3
   },
   "file_extension": ".py",
   "mimetype": "text/x-python",
   "name": "python",
   "nbconvert_exporter": "python",
   "pygments_lexer": "ipython3",
   "version": "3.12.4"
  }
 },
 "nbformat": 4,
 "nbformat_minor": 2
}
